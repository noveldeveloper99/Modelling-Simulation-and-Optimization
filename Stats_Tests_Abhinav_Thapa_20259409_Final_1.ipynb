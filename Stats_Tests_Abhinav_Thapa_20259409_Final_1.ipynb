{
 "cells": [
  {
   "cell_type": "code",
   "execution_count": 132,
   "metadata": {
    "code_folding": [
     0
    ]
   },
   "outputs": [],
   "source": [
    "# Importing libraries\n",
    "import pandas as pd\n",
    "import numpy as np"
   ]
  },
  {
   "cell_type": "markdown",
   "metadata": {},
   "source": [
    "We have renamed the simulations from S1x12 to s9x12 to sim1 to sim9 for simplicity!!"
   ]
  },
  {
   "cell_type": "code",
   "execution_count": 133,
   "metadata": {
    "code_folding": [
     0
    ]
   },
   "outputs": [],
   "source": [
    "# Reading Simulation files for each of the 9 scenarios\n",
    "sim1 = pd.read_csv('C:/Users/abhin/Desktop/NCI 2022/Sem 2/MSO/Testing/MSO Abhinav-20220819T231540Z-001/MSO Abhinav/sims_S1x12_Baseline_main100.csv')\n",
    "\n",
    "sim2 = pd.read_csv('C:/Users/abhin/Desktop/NCI 2022/Sem 2/MSO/Testing/MSO Abhinav-20220819T231540Z-001/MSO Abhinav/sims_S2x12_Phase1_main100.csv')\n",
    "\n",
    "sim3 = pd.read_csv('C:/Users/abhin/Desktop/NCI 2022/Sem 2/MSO/Testing/MSO Abhinav-20220819T231540Z-001/MSO Abhinav/sims_S3x12_Phase2_main100.csv')\n",
    "\n",
    "sim4 = pd.read_csv('C:/Users/abhin/Desktop/NCI 2022/Sem 2/MSO/Testing/MSO Abhinav-20220819T231540Z-001/MSO Abhinav/sims_S4x12_Baseline_main60.csv')\n",
    "\n",
    "sim5 = pd.read_csv('C:/Users/abhin/Desktop/NCI 2022/Sem 2/MSO/Testing/MSO Abhinav-20220819T231540Z-001/MSO Abhinav/sims_S5x12_Phase1_main60.csv')\n",
    "\n",
    "sim6 = pd.read_csv('C:/Users/abhin/Desktop/NCI 2022/Sem 2/MSO/Testing/MSO Abhinav-20220819T231540Z-001/MSO Abhinav/sims_S6x12_Phase2_main60.csv')\n",
    "\n",
    "sim7 = pd.read_csv('C:/Users/abhin/Desktop/NCI 2022/Sem 2/MSO/Testing/MSO Abhinav-20220819T231540Z-001/MSO Abhinav/sims_S7x12_Baseline_main80.csv')\n",
    "\n",
    "sim8 = pd.read_csv('C:/Users/abhin/Desktop/NCI 2022/Sem 2/MSO/Testing/MSO Abhinav-20220819T231540Z-001/MSO Abhinav/sims_S8x12_Phase1_main80.csv')\n",
    "\n",
    "sim9 = pd.read_csv('C:/Users/abhin/Desktop/NCI 2022/Sem 2/MSO/Testing/MSO Abhinav-20220819T231540Z-001/MSO Abhinav/sims_S9x12_Phase2_main80.csv')"
   ]
  },
  {
   "cell_type": "markdown",
   "metadata": {},
   "source": [
    "## Statistical Tests for Queue Length (QL), Waiting Time (WT) and Travelling Time (TT)"
   ]
  },
  {
   "cell_type": "markdown",
   "metadata": {},
   "source": [
    "### 1. Evaluation A100: sim1(Baseline: S-flow =300veh/h) vs sim2(Phase1: S-flow =400veh/h); \n",
    "#### Constants A100:: N-flow =120veh/h, Cross-flow =50veh/h, VMAXmain =100kmph, VMAXcross =50kmph, seed =9420"
   ]
  },
  {
   "cell_type": "markdown",
   "metadata": {},
   "source": [
    "#### Simulation variables for Evaluation (QL, WT, TT): sample generated."
   ]
  },
  {
   "cell_type": "code",
   "execution_count": 134,
   "metadata": {
    "code_folding": []
   },
   "outputs": [],
   "source": [
    "# Comparing sim1 results with sim2 i.e. effects of increasing S-bound\n",
    "# traffic flow from 300 veh/h in Baseline sim to 400 veh/h in Phase 1 \n",
    "# sim for VMAXmain limited to 100 kmph and seed = 9420 (randomly chosen),\n",
    "# on QL, WT and TT."
   ]
  },
  {
   "cell_type": "code",
   "execution_count": 135,
   "metadata": {
    "code_folding": [
     0
    ]
   },
   "outputs": [],
   "source": [
    "# sim1 simulation with no dir filter i.e. Across the road\n",
    "# filtering Queue data we take event = 'queue'/'dequeu/end'\n",
    "sim1_QL = sim1[(sim1['seed']==9420) & (sim1['event']=='queue')]\n",
    "sim1_WT = sim1[(sim1['seed']==9420) & (sim1['event']=='dequeue')]\n",
    "sim1_TT = sim1[(sim1['seed']==9420) & (sim1['event']=='end')]"
   ]
  },
  {
   "cell_type": "code",
   "execution_count": 136,
   "metadata": {
    "code_folding": [
     0
    ]
   },
   "outputs": [
    {
     "name": "stdout",
     "output_type": "stream",
     "text": [
      "47\n",
      "47\n",
      "255\n"
     ]
    }
   ],
   "source": [
    "# Across\n",
    "print(sim1_QL.q.count())\n",
    "print(sim1_WT.w.count())\n",
    "print(sim1_TT.w.count())"
   ]
  },
  {
   "cell_type": "code",
   "execution_count": 137,
   "metadata": {
    "code_folding": [
     0
    ]
   },
   "outputs": [],
   "source": [
    "# sim2 simulation with no dir i.e. Across the road\n",
    "# filtering Queue data we take event = 'queue'/'dequeu/end'\n",
    "sim2_QL = sim2[(sim2['seed']==9420) & (sim2['event']=='queue')]\n",
    "sim2_WT = sim2[(sim2['seed']==9420) & (sim2['event']=='dequeue')]\n",
    "sim2_TT = sim2[(sim2['seed']==9420) & (sim2['event']=='end')]"
   ]
  },
  {
   "cell_type": "code",
   "execution_count": 138,
   "metadata": {
    "code_folding": [
     0
    ]
   },
   "outputs": [
    {
     "name": "stdout",
     "output_type": "stream",
     "text": [
      "47\n",
      "47\n",
      "303\n"
     ]
    }
   ],
   "source": [
    "# Across\n",
    "print(sim2_QL.q.count())\n",
    "print(sim2_WT.w.count())\n",
    "print(sim2_TT.w.count())"
   ]
  },
  {
   "cell_type": "markdown",
   "metadata": {},
   "source": [
    "### Hypothesis Testing for QL/WT/TT"
   ]
  },
  {
   "cell_type": "markdown",
   "metadata": {},
   "source": [
    "For this case following assumptions were made:\n",
    "\n",
    "    1. Observations in each sample are independent and identically distributed.\n",
    "    2. Observations in each sample are normally distributed.\n",
    "    3. Observations in each sample have the same variance.\n",
    "\n",
    "Following hypothesis was formulated:\n",
    "\n",
    "    H0: the sample means of Queue length/ Wait Time/Travel Time are equal\n",
    "    H1: sample means are not equal"
   ]
  },
  {
   "cell_type": "markdown",
   "metadata": {},
   "source": [
    "###  sim1 vs sim2 : t-Test"
   ]
  },
  {
   "cell_type": "code",
   "execution_count": 139,
   "metadata": {
    "code_folding": [
     0
    ]
   },
   "outputs": [],
   "source": [
    "# QL samples for testing\n",
    "data_QL1 = sim1_QL.q\n",
    "data_QL2 = sim2_QL.q"
   ]
  },
  {
   "cell_type": "code",
   "execution_count": 205,
   "metadata": {
    "code_folding": [
     0
    ]
   },
   "outputs": [
    {
     "name": "stdout",
     "output_type": "stream",
     "text": [
      "QL\tWT\tTT\n",
      "\n",
      "0.83 13.51 45.98\n",
      "0.77 14.74 45.21\n"
     ]
    }
   ],
   "source": [
    "# Sample means \n",
    "print('QL\\tWT\\tTT\\n')\n",
    "print(round(data_QL1.mean(),2), round(data_WT1.mean(),2),round(data_TT1.mean(),2))\n",
    "print(round(data_QL2.mean(),2), round(data_WT2.mean(),2),round(data_TT2.mean(),2))"
   ]
  },
  {
   "cell_type": "code",
   "execution_count": 140,
   "metadata": {},
   "outputs": [
    {
     "data": {
      "text/plain": [
       "47"
      ]
     },
     "execution_count": 140,
     "metadata": {},
     "output_type": "execute_result"
    }
   ],
   "source": [
    "data_QL1.count()"
   ]
  },
  {
   "cell_type": "code",
   "execution_count": 141,
   "metadata": {},
   "outputs": [
    {
     "data": {
      "text/plain": [
       "47"
      ]
     },
     "execution_count": 141,
     "metadata": {},
     "output_type": "execute_result"
    }
   ],
   "source": [
    "data_QL2.count()"
   ]
  },
  {
   "cell_type": "code",
   "execution_count": 142,
   "metadata": {
    "code_folding": [
     0
    ]
   },
   "outputs": [
    {
     "name": "stdout",
     "output_type": "stream",
     "text": [
      "stat=0.727, p=0.000\n",
      "Probably not Gaussian\n"
     ]
    }
   ],
   "source": [
    "# Shapiro-Wilk Normality Test\n",
    "from scipy.stats import shapiro\n",
    "data = data_QL1\n",
    "stat, p = shapiro(data)\n",
    "print('stat=%.3f, p=%.3f' % (stat, p))\n",
    "if p > 0.01:\n",
    "\tprint('Probably Gaussian')\n",
    "else:\n",
    "\tprint('Probably not Gaussian')"
   ]
  },
  {
   "cell_type": "code",
   "execution_count": 143,
   "metadata": {
    "code_folding": [
     0
    ]
   },
   "outputs": [
    {
     "name": "stdout",
     "output_type": "stream",
     "text": [
      "stat=0.980, p=0.000\n",
      "Probably dependent\n"
     ]
    }
   ],
   "source": [
    "# Pearson's Correlation test\n",
    "from scipy.stats import pearsonr\n",
    "data1 = data_QL1\n",
    "data2 = data_QL2\n",
    "stat, p = pearsonr(data1, data2)\n",
    "print('stat=%.3f, p=%.3f' % (stat, p))\n",
    "if p > 0.01:\n",
    "\tprint('Probably independent')\n",
    "else:\n",
    "\tprint('Probably dependent')"
   ]
  },
  {
   "cell_type": "code",
   "execution_count": 144,
   "metadata": {
    "code_folding": [
     0
    ]
   },
   "outputs": [
    {
     "name": "stdout",
     "output_type": "stream",
     "text": [
      "stat=0.272, p=0.786\n",
      "Probably the same distribution\n"
     ]
    }
   ],
   "source": [
    "# Student's t-test for Queue Length: QL1 vs QL2\n",
    "from scipy.stats import ttest_ind\n",
    "data1 = data_QL1\n",
    "data2 = data_QL2\n",
    "stat, p = ttest_ind(data1, data2)\n",
    "print('stat=%.3f, p=%.3f' % (stat, p))\n",
    "if p > 0.01:\n",
    "\tprint('Probably the same distribution')\n",
    "else:\n",
    "\tprint('Probably different distributions')"
   ]
  },
  {
   "cell_type": "code",
   "execution_count": 145,
   "metadata": {
    "code_folding": [
     0
    ]
   },
   "outputs": [],
   "source": [
    "# WT samples for testing\n",
    "data_WT1 = sim1_WT.w\n",
    "data_WT2 = sim2_WT.w"
   ]
  },
  {
   "cell_type": "code",
   "execution_count": 146,
   "metadata": {
    "code_folding": [
     0
    ]
   },
   "outputs": [
    {
     "name": "stdout",
     "output_type": "stream",
     "text": [
      "stat=-0.651, p=0.516\n",
      "Probably the same distribution\n"
     ]
    }
   ],
   "source": [
    "# Student's t-test for Waiting Time: WT1 vs WT2\n",
    "from scipy.stats import ttest_ind\n",
    "data1 = data_WT1\n",
    "data2 = data_WT2\n",
    "stat, p = ttest_ind(data1, data2)\n",
    "print('stat=%.3f, p=%.3f' % (stat, p))\n",
    "if p > 0.01:\n",
    "\tprint('Probably the same distribution')\n",
    "else:\n",
    "\tprint('Probably different distributions')"
   ]
  },
  {
   "cell_type": "code",
   "execution_count": 147,
   "metadata": {
    "code_folding": [
     0
    ]
   },
   "outputs": [],
   "source": [
    "# TT samples for testing\n",
    "data_TT1 = sim1_TT.w\n",
    "data_TT2 = sim2_TT.w"
   ]
  },
  {
   "cell_type": "code",
   "execution_count": 148,
   "metadata": {},
   "outputs": [
    {
     "data": {
      "text/plain": [
       "255"
      ]
     },
     "execution_count": 148,
     "metadata": {},
     "output_type": "execute_result"
    }
   ],
   "source": [
    "data_TT1.count()"
   ]
  },
  {
   "cell_type": "code",
   "execution_count": 149,
   "metadata": {},
   "outputs": [
    {
     "data": {
      "text/plain": [
       "303"
      ]
     },
     "execution_count": 149,
     "metadata": {},
     "output_type": "execute_result"
    }
   ],
   "source": [
    "data_TT2.count()"
   ]
  },
  {
   "cell_type": "code",
   "execution_count": 150,
   "metadata": {
    "code_folding": [
     0
    ]
   },
   "outputs": [
    {
     "name": "stdout",
     "output_type": "stream",
     "text": [
      "stat=0.689, p=0.491\n",
      "Probably the same distribution\n"
     ]
    }
   ],
   "source": [
    "# Student's t-test for Travel Time : TT1 vs TT2\n",
    "from scipy.stats import ttest_ind\n",
    "data1 = data_TT1\n",
    "data2 = data_TT2\n",
    "stat, p = ttest_ind(data1, data2)\n",
    "print('stat=%.3f, p=%.3f' % (stat, p))\n",
    "if p > 0.01:\n",
    "\tprint('Probably the same distribution')\n",
    "else:\n",
    "\tprint('Probably different distributions')"
   ]
  },
  {
   "cell_type": "markdown",
   "metadata": {},
   "source": [
    "### sim1 vs sim2 : z-Test"
   ]
  },
  {
   "cell_type": "markdown",
   "metadata": {},
   "source": [
    "#### 1.1. Two-Tailed Hypothesis Testing \n",
    "\n",
    "Assumptions were made:\n",
    "\n",
    "    H0: Sample means for QL/WT/TT are equal.\n",
    "    H1: There is a stat. significant difference in sample \n",
    "        means of QL/WT/TT.\n"
   ]
  },
  {
   "cell_type": "code",
   "execution_count": 151,
   "metadata": {
    "code_folding": [
     0
    ]
   },
   "outputs": [
    {
     "name": "stdout",
     "output_type": "stream",
     "text": [
      "pval for QL:  0.7856256726885961\n",
      "accept null hypothesis\n",
      "pval for WT:  0.5148404837685596\n",
      "accept null hypothesis\n",
      "pval for TT:  0.49103728785650347\n",
      "accept null hypothesis\n"
     ]
    }
   ],
   "source": [
    "# Two-tailed Z-Test for Evaluation A100: sim1 vs sim2 (QL1vsQL2, WT1vsWT2,TT1vsTT2)\n",
    "from scipy import stats\n",
    "from statsmodels.stats import weightstats as stests\n",
    "\n",
    "# QL Testing\n",
    "ztest ,pval = stests.ztest(x1 = data_QL1, x2 = data_QL2, value=0,alternative='two-sided')\n",
    "print('pval for QL: ',float(pval))\n",
    "if pval<0.01:\n",
    "    print(\"reject null hypothesis\")\n",
    "else:\n",
    "    print(\"accept null hypothesis\")\n",
    "\n",
    "# WT Testing\n",
    "ztest ,pval = stests.ztest(x1 = data_WT1, x2 = data_WT2, value=0,alternative='two-sided')\n",
    "print('pval for WT: ',float(pval))\n",
    "if pval<0.01:\n",
    "    print(\"reject null hypothesis\")\n",
    "else:\n",
    "    print(\"accept null hypothesis\")\n",
    "\n",
    "ztest ,pval = stests.ztest(x1 = data_TT1, x2 = data_TT2, value=0,alternative='two-sided')\n",
    "print('pval for TT: ',float(pval))\n",
    "if pval<0.01:\n",
    "    print(\"reject null hypothesis\")\n",
    "else:\n",
    "    print(\"accept null hypothesis\")\n"
   ]
  },
  {
   "cell_type": "markdown",
   "metadata": {},
   "source": [
    "#### 1.2. One-Tailed Hypothesis Testing \n",
    "\n",
    "Assumptions were made:\n",
    "\n",
    "    H0: There is no increase in QL/WT/TT with increase in S-flow.\n",
    "        mean1>=mean2\n",
    "    H1: There is a stat. significant increase in QL/WT/TT \n",
    "        with increase in S-flow.\n",
    "        mean1<mean2\n"
   ]
  },
  {
   "cell_type": "code",
   "execution_count": 206,
   "metadata": {
    "code_folding": [
     0
    ]
   },
   "outputs": [
    {
     "name": "stdout",
     "output_type": "stream",
     "text": [
      "pval for QL:  0.39281283634429803\n",
      "accept null hypothesis\n",
      "pval for WT:  0.2574202418842798\n",
      "accept null hypothesis\n",
      "pval for TT:  0.24551864392825173\n",
      "accept null hypothesis\n"
     ]
    }
   ],
   "source": [
    "# One-tail Z-Test for Evaluation A100: sim1 vs sim2 (QL1vsQL2, WT1vsWT2,TT1vsTT2)\n",
    "from scipy import stats\n",
    "from statsmodels.stats import weightstats as stests\n",
    "\n",
    "# QL Testing\n",
    "ztest ,pval = stests.ztest(x1 = data_QL1, x2 = data_QL2, value=0,alternative='larger')\n",
    "print('pval for QL: ',float(pval))\n",
    "if pval<0.01:\n",
    "    print(\"reject null hypothesis\")\n",
    "else:\n",
    "    print(\"accept null hypothesis\")\n",
    "\n",
    "# WT Testing\n",
    "ztest ,pval = stests.ztest(x1 = data_WT1, x2 = data_WT2, value=0,alternative='smaller')\n",
    "print('pval for WT: ',float(pval))\n",
    "if pval<0.01:\n",
    "    print(\"reject null hypothesis\")\n",
    "else:\n",
    "    print(\"accept null hypothesis\")\n",
    "\n",
    "ztest ,pval = stests.ztest(x1 = data_TT1, x2 = data_TT2, value=0,alternative='larger')\n",
    "print('pval for TT: ',float(pval))\n",
    "if pval<0.01:\n",
    "    print(\"reject null hypothesis\")\n",
    "else:\n",
    "    print(\"accept null hypothesis\")\n"
   ]
  },
  {
   "cell_type": "markdown",
   "metadata": {},
   "source": [
    "### 2. Evaluation B100: sim1(Baseline: S-flow =300veh/h) vs sim3(Phase2: S-flow =600veh/h); \n",
    "#### Constants B100 :: N-flow =120veh/h, Cross-flow =50veh/h, VMAXmain =100kmph, VMAXcross =50kmph, seed =9420"
   ]
  },
  {
   "cell_type": "code",
   "execution_count": 208,
   "metadata": {
    "code_folding": [
     0
    ]
   },
   "outputs": [],
   "source": [
    "# sim3 simulation with no dir filter i.e. ACross the road\n",
    "# filtering Queue data we take event = 'queue'/'dequeu/end'\n",
    "sim3_QL = sim3[(sim3['seed']==9420) & (sim3['event']=='queue')]\n",
    "sim3_WT = sim3[(sim3['seed']==9420) & (sim3['event']=='dequeue')]\n",
    "sim3_TT = sim3[(sim3['seed']==9420) & (sim3['event']=='end')]"
   ]
  },
  {
   "cell_type": "code",
   "execution_count": 209,
   "metadata": {
    "code_folding": [
     0
    ]
   },
   "outputs": [
    {
     "name": "stdout",
     "output_type": "stream",
     "text": [
      "47\n",
      "47\n",
      "403\n"
     ]
    }
   ],
   "source": [
    "# across QL, WT, TT\n",
    "print(sim3_QL.q.count())\n",
    "print(sim3_WT.w.count())\n",
    "print(sim3_TT.w.count())"
   ]
  },
  {
   "cell_type": "code",
   "execution_count": 210,
   "metadata": {
    "code_folding": [
     0
    ]
   },
   "outputs": [],
   "source": [
    "# Samples for testing\n",
    "data_QL3 = sim3_QL.q\n",
    "data_WT3 = sim3_WT.w\n",
    "data_TT3 = sim3_TT.w"
   ]
  },
  {
   "cell_type": "code",
   "execution_count": 211,
   "metadata": {},
   "outputs": [
    {
     "name": "stdout",
     "output_type": "stream",
     "text": [
      "QL\tWT\tTT\n",
      "\n",
      "0.83 13.51 45.98\n",
      "0.87 26.36 45.21\n"
     ]
    }
   ],
   "source": [
    "# Sample means \n",
    "print('QL\\tWT\\tTT\\n')\n",
    "print(round(data_QL1.mean(),2), round(data_WT1.mean(),2),round(data_TT1.mean(),2))\n",
    "print(round(data_QL3.mean(),2), round(data_WT3.mean(),2),round(data_TT3.mean(),2))"
   ]
  },
  {
   "cell_type": "code",
   "execution_count": 212,
   "metadata": {
    "code_folding": [
     0
    ]
   },
   "outputs": [
    {
     "name": "stdout",
     "output_type": "stream",
     "text": [
      "stat=-0.175, p=0.861\n",
      "Probably the same distribution\n"
     ]
    }
   ],
   "source": [
    "# Student's t-test for Queue Length: QL1 vs QL3\n",
    "from scipy.stats import ttest_ind\n",
    "data1 = data_QL1\n",
    "data2 = data_QL3\n",
    "stat, p = ttest_ind(data1, data2)\n",
    "print('stat=%.3f, p=%.3f' % (stat, p))\n",
    "if p > 0.01:\n",
    "\tprint('Probably the same distribution')\n",
    "else:\n",
    "\tprint('Probably different distributions')"
   ]
  },
  {
   "cell_type": "code",
   "execution_count": 213,
   "metadata": {
    "code_folding": [
     0
    ]
   },
   "outputs": [
    {
     "name": "stdout",
     "output_type": "stream",
     "text": [
      "stat=-4.360, p=0.000\n",
      "Probably different distributions\n"
     ]
    }
   ],
   "source": [
    "# Student's t-test for Wait time: WT1 vs WT3\n",
    "from scipy.stats import ttest_ind\n",
    "data1 = data_WT1\n",
    "data2 = data_WT3\n",
    "stat, p = ttest_ind(data1, data2)\n",
    "print('stat=%.3f, p=%.3f' % (stat, p))\n",
    "if p > 0.01:\n",
    "\tprint('Probably the same distribution')\n",
    "else:\n",
    "\tprint('Probably different distributions')"
   ]
  },
  {
   "cell_type": "code",
   "execution_count": 214,
   "metadata": {
    "code_folding": [
     0
    ]
   },
   "outputs": [
    {
     "name": "stdout",
     "output_type": "stream",
     "text": [
      "stat=0.637, p=0.524\n",
      "Probably the same distribution\n"
     ]
    }
   ],
   "source": [
    "# Student's t-test for Travel time: TT1 vs TT3\n",
    "from scipy.stats import ttest_ind\n",
    "data1 = data_TT1\n",
    "data2 = data_TT3\n",
    "stat, p = ttest_ind(data1, data2)\n",
    "print('stat=%.3f, p=%.3f' % (stat, p))\n",
    "if p > 0.01:\n",
    "\tprint('Probably the same distribution')\n",
    "else:\n",
    "\tprint('Probably different distributions')"
   ]
  },
  {
   "cell_type": "markdown",
   "metadata": {},
   "source": [
    "### sim1 vs sim3 : z-Test"
   ]
  },
  {
   "cell_type": "markdown",
   "metadata": {},
   "source": [
    "#### 2.1. Two-Tailed Hypothesis Testing \n",
    "\n",
    "Assumptions were made:\n",
    "\n",
    "    H0: Sample means for QL/WT/TT are equal.\n",
    "    H1: There is a stat. significant difference in sample \n",
    "        means of QL/WT/TT.\n"
   ]
  },
  {
   "cell_type": "code",
   "execution_count": 215,
   "metadata": {
    "code_folding": [
     0
    ]
   },
   "outputs": [
    {
     "name": "stdout",
     "output_type": "stream",
     "text": [
      "pval for QL:  0.861100647362621\n",
      "accept null hypothesis\n",
      "pval for WT:  1.3027541359553208e-05\n",
      "reject null hypothesis\n",
      "pval for TT:  0.5241373348631886\n",
      "accept null hypothesis\n"
     ]
    }
   ],
   "source": [
    "# Two-tailed Z-Test for Evaluation B100: sim1 vs sim3 (QL1vsQL3, WT1vsWT3,TT1vsTT3)\n",
    "from scipy import stats\n",
    "from statsmodels.stats import weightstats as stests\n",
    "\n",
    "# QL Testing\n",
    "ztest ,pval = stests.ztest(x1 = data_QL1, x2 = data_QL3, value=0,alternative='two-sided')\n",
    "print('pval for QL: ',float(pval))\n",
    "if pval<0.01:\n",
    "    print(\"reject null hypothesis\")\n",
    "else:\n",
    "    print(\"accept null hypothesis\")\n",
    "\n",
    "# WT Testing\n",
    "ztest ,pval = stests.ztest(x1 = data_WT1, x2 = data_WT3, value=0,alternative='two-sided')\n",
    "print('pval for WT: ',float(pval))\n",
    "if pval<0.01:\n",
    "    print(\"reject null hypothesis\")\n",
    "else:\n",
    "    print(\"accept null hypothesis\")\n",
    "\n",
    "ztest ,pval = stests.ztest(x1 = data_TT1, x2 = data_TT3, value=0,alternative='two-sided')\n",
    "print('pval for TT: ',float(pval))\n",
    "if pval<0.01:\n",
    "    print(\"reject null hypothesis\")\n",
    "else:\n",
    "    print(\"accept null hypothesis\")\n"
   ]
  },
  {
   "cell_type": "markdown",
   "metadata": {},
   "source": [
    "#### 2.2. One-Tailed Hypothesis Testing \n",
    "\n",
    "Assumptions were made:\n",
    "\n",
    "    H0: There is no increase in QL/WT/TT with increase in S-flow.\n",
    "    H1: There is a stat. significant increase in QL/WT/TT \n",
    "        with increase in S-flow.\n"
   ]
  },
  {
   "cell_type": "code",
   "execution_count": 216,
   "metadata": {
    "code_folding": [
     0
    ]
   },
   "outputs": [
    {
     "name": "stdout",
     "output_type": "stream",
     "text": [
      "pval for QL:  0.4305503236813105\n",
      "accept null hypothesis\n",
      "pval for WT:  6.513770679776604e-06\n",
      "reject null hypothesis\n",
      "pval for TT:  0.2620686674315943\n",
      "accept null hypothesis\n"
     ]
    }
   ],
   "source": [
    "# One-tail Z-Test for Evaluation B100: sim1 vs sim3 (QL4vsQL5, WT4vsWT5,TT4vsTT5)\n",
    "from scipy import stats\n",
    "from statsmodels.stats import weightstats as stests\n",
    "\n",
    "# QL Testing\n",
    "ztest ,pval = stests.ztest(x1 = data_QL1, x2 = data_QL3, value=0,alternative='smaller')\n",
    "print('pval for QL: ',float(pval))\n",
    "if pval<0.01:\n",
    "    print(\"reject null hypothesis\")\n",
    "else:\n",
    "    print(\"accept null hypothesis\")\n",
    "\n",
    "# WT Testing\n",
    "ztest ,pval = stests.ztest(x1 = data_WT1, x2 = data_WT3, value=0,alternative='smaller')\n",
    "print('pval for WT: ',float(pval))\n",
    "if pval<0.01:\n",
    "    print(\"reject null hypothesis\")\n",
    "else:\n",
    "    print(\"accept null hypothesis\")\n",
    "\n",
    "ztest ,pval = stests.ztest(x1 = data_TT1, x2 = data_TT3, value=0,alternative='larger')\n",
    "print('pval for TT: ',float(pval))\n",
    "if pval<0.01:\n",
    "    print(\"reject null hypothesis\")\n",
    "else:\n",
    "    print(\"accept null hypothesis\")\n"
   ]
  },
  {
   "cell_type": "markdown",
   "metadata": {},
   "source": [
    "### 3. Evaluation A60: sim4(Baseline: S-flow =300veh/h) vs sim5(Phase1: S-flow =400veh/h); \n",
    "#### Constants A60:: N-flow =120veh/h, Cross-flow =50veh/h, VMAXmain =60kmph, VMAXcross =50kmph, seed =9420"
   ]
  },
  {
   "cell_type": "code",
   "execution_count": 217,
   "metadata": {
    "code_folding": [
     0
    ]
   },
   "outputs": [],
   "source": [
    "# sim4 simulation with no dir filter i.e. ACross the road\n",
    "# filtering Queue data we take event = 'queue'/'dequeu/end'\n",
    "sim4_QL = sim4[(sim4['seed']==9420) & (sim4['event']=='queue')]\n",
    "sim4_WT = sim4[(sim4['seed']==9420) & (sim4['event']=='dequeue')]\n",
    "sim4_TT = sim4[(sim4['seed']==9420) & (sim4['event']=='end')]"
   ]
  },
  {
   "cell_type": "code",
   "execution_count": 218,
   "metadata": {
    "code_folding": [
     0
    ]
   },
   "outputs": [],
   "source": [
    "# sim5 simulation with no dir filter i.e. ACross the road\n",
    "# filtering Queue data we take event = 'queue'/'dequeu/end'\n",
    "sim5_QL = sim5[(sim5['seed']==9420) & (sim5['event']=='queue')]\n",
    "sim5_WT = sim5[(sim5['seed']==9420) & (sim5['event']=='dequeue')]\n",
    "sim5_TT = sim5[(sim5['seed']==9420) & (sim5['event']=='end')]"
   ]
  },
  {
   "cell_type": "code",
   "execution_count": 219,
   "metadata": {
    "code_folding": [
     0
    ]
   },
   "outputs": [],
   "source": [
    "# sim6 simulation with no dir filter i.e. ACross the road\n",
    "# filtering Queue data we take event = 'queue'/'dequeu/end'\n",
    "sim6_QL = sim6[(sim6['seed']==9420) & (sim6['event']=='queue')]\n",
    "sim6_WT = sim6[(sim6['seed']==9420) & (sim6['event']=='dequeue')]\n",
    "sim6_TT = sim6[(sim6['seed']==9420) & (sim6['event']=='end')]"
   ]
  },
  {
   "cell_type": "code",
   "execution_count": 220,
   "metadata": {
    "code_folding": [
     0
    ]
   },
   "outputs": [
    {
     "name": "stdout",
     "output_type": "stream",
     "text": [
      "47\n",
      "47\n",
      "255\n"
     ]
    }
   ],
   "source": [
    "# across QL, WT,TT\n",
    "print(sim4_QL.q.count())\n",
    "print(sim4_WT.w.count())\n",
    "print(sim4_TT.w.count())"
   ]
  },
  {
   "cell_type": "code",
   "execution_count": 221,
   "metadata": {
    "code_folding": [
     0
    ]
   },
   "outputs": [],
   "source": [
    "# Samples for testing\n",
    "data_QL4 = sim4_QL.q\n",
    "data_QL5 = sim5_QL.q\n",
    "data_WT4 = sim4_WT.w\n",
    "data_WT5 = sim5_WT.w\n",
    "data_TT4 = sim4_TT.w\n",
    "data_TT5 = sim5_TT.w"
   ]
  },
  {
   "cell_type": "code",
   "execution_count": 222,
   "metadata": {
    "code_folding": [
     0
    ]
   },
   "outputs": [
    {
     "name": "stdout",
     "output_type": "stream",
     "text": [
      "QL\tWT\tTT\n",
      "\n",
      "0.87 15.24 62.76\n",
      "0.89 17.39 62.67\n"
     ]
    }
   ],
   "source": [
    "# Sample means \n",
    "print('QL\\tWT\\tTT\\n')\n",
    "print(round(data_QL4.mean(),2), round(data_WT4.mean(),2),round(data_TT4.mean(),2))\n",
    "print(round(data_QL5.mean(),2), round(data_WT5.mean(),2),round(data_TT5.mean(),2))"
   ]
  },
  {
   "cell_type": "markdown",
   "metadata": {},
   "source": [
    "### sim4 vs sim5"
   ]
  },
  {
   "cell_type": "code",
   "execution_count": 175,
   "metadata": {
    "code_folding": [
     0
    ]
   },
   "outputs": [
    {
     "name": "stdout",
     "output_type": "stream",
     "text": [
      "stat=-0.080, p=0.937\n",
      "Probably the same distribution\n"
     ]
    }
   ],
   "source": [
    "# Student's t-test for Queue length: QL4vsQL5\n",
    "from scipy.stats import ttest_ind\n",
    "data1 = data_QL4\n",
    "data2 = data_QL5\n",
    "stat, p = ttest_ind(data1, data2)\n",
    "print('stat=%.3f, p=%.3f' % (stat, p))\n",
    "if p > 0.01:\n",
    "\tprint('Probably the same distribution')\n",
    "else:\n",
    "\tprint('Probably different distributions')"
   ]
  },
  {
   "cell_type": "code",
   "execution_count": 176,
   "metadata": {
    "code_folding": [
     0
    ]
   },
   "outputs": [
    {
     "name": "stdout",
     "output_type": "stream",
     "text": [
      "stat=-0.986, p=0.327\n",
      "Probably the same distribution\n"
     ]
    }
   ],
   "source": [
    "# Student's t-test for Wait time: WT4vsWT5\n",
    "from scipy.stats import ttest_ind\n",
    "data1 = data_WT4\n",
    "data2 = data_WT5\n",
    "stat, p = ttest_ind(data1, data2)\n",
    "print('stat=%.3f, p=%.3f' % (stat, p))\n",
    "if p > 0.01:\n",
    "\tprint('Probably the same distribution')\n",
    "else:\n",
    "\tprint('Probably different distributions')"
   ]
  },
  {
   "cell_type": "code",
   "execution_count": 177,
   "metadata": {
    "code_folding": [
     0
    ]
   },
   "outputs": [
    {
     "name": "stdout",
     "output_type": "stream",
     "text": [
      "stat=0.137, p=0.891\n",
      "Probably the same distribution\n"
     ]
    }
   ],
   "source": [
    "# Student's t-test for Travel time: TT4vsTT5\n",
    "from scipy.stats import ttest_ind\n",
    "data1 = data_TT4\n",
    "data2 = data_TT5\n",
    "stat, p = ttest_ind(data1, data2)\n",
    "print('stat=%.3f, p=%.3f' % (stat, p))\n",
    "if p > 0.01:\n",
    "\tprint('Probably the same distribution')\n",
    "else:\n",
    "\tprint('Probably different distributions')"
   ]
  },
  {
   "cell_type": "markdown",
   "metadata": {},
   "source": [
    "#### 3.1. Two-Tailed Hypothesis Testing \n",
    "\n",
    "Assumptions were made:\n",
    "\n",
    "    H0: Sample means for QL/WT/TT are equal.\n",
    "    H1: There is a stat. significant difference in sample \n",
    "        means of QL/WT/TT.\n"
   ]
  },
  {
   "cell_type": "code",
   "execution_count": 178,
   "metadata": {
    "code_folding": [
     0
    ]
   },
   "outputs": [
    {
     "name": "stdout",
     "output_type": "stream",
     "text": [
      "pval for QL:  0.9363982013731798\n",
      "accept null hypothesis\n",
      "pval for WT:  0.32396731646447174\n",
      "accept null hypothesis\n",
      "pval for TT:  0.8907783562180015\n",
      "accept null hypothesis\n"
     ]
    }
   ],
   "source": [
    "# two-tailed Z-Test for Evaluation A60: sim4 vs sim5 (QL4vsQL5, WT4vsWT5,TT4vsTT5)\n",
    "from scipy import stats\n",
    "from statsmodels.stats import weightstats as stests\n",
    "\n",
    "# QL Testing\n",
    "ztest ,pval = stests.ztest(x1 = data_QL4, x2 = data_QL5, value=0,alternative='two-sided')\n",
    "print('pval for QL: ',float(pval))\n",
    "if pval<0.01:\n",
    "    print(\"reject null hypothesis\")\n",
    "else:\n",
    "    print(\"accept null hypothesis\")\n",
    "\n",
    "# WT Testing\n",
    "ztest ,pval = stests.ztest(x1 = data_WT4, x2 = data_WT5, value=0,alternative='two-sided')\n",
    "print('pval for WT: ',float(pval))\n",
    "if pval<0.01:\n",
    "    print(\"reject null hypothesis\")\n",
    "else:\n",
    "    print(\"accept null hypothesis\")\n",
    "\n",
    "ztest ,pval = stests.ztest(x1 = data_TT4, x2 = data_TT5, value=0,alternative='two-sided')\n",
    "print('pval for TT: ',float(pval))\n",
    "if pval<0.01:\n",
    "    print(\"reject null hypothesis\")\n",
    "else:\n",
    "    print(\"accept null hypothesis\")\n"
   ]
  },
  {
   "cell_type": "markdown",
   "metadata": {},
   "source": [
    "#### 3.2. One-Tailed Hypothesis Testing \n",
    "\n",
    "Assumptions were made:\n",
    "\n",
    "    H0: There is no increase in QL/WT/TT with increase in S-flow.\n",
    "    H1: There is a stat. significant increase in QL/WT/TT \n",
    "        with increase in S-flow.\n"
   ]
  },
  {
   "cell_type": "code",
   "execution_count": 223,
   "metadata": {
    "code_folding": [
     0
    ]
   },
   "outputs": [
    {
     "name": "stdout",
     "output_type": "stream",
     "text": [
      "pval for QL:  0.4681991006865899\n",
      "accept null hypothesis\n",
      "pval for WT:  0.16198365823223587\n",
      "accept null hypothesis\n",
      "pval for TT:  0.44538917810900075\n",
      "accept null hypothesis\n"
     ]
    }
   ],
   "source": [
    "# One-tail Z-Test for Evaluation A60: sim4 vs sim5 (QL4vsQL5, WT4vsWT5,TT4vsTT5)\n",
    "from scipy import stats\n",
    "from statsmodels.stats import weightstats as stests\n",
    "\n",
    "# QL Testing\n",
    "ztest ,pval = stests.ztest(x1 = data_QL4, x2 = data_QL5, value=0,alternative='smaller')\n",
    "print('pval for QL: ',float(pval))\n",
    "if pval<0.01:\n",
    "    print(\"reject null hypothesis\")\n",
    "else:\n",
    "    print(\"accept null hypothesis\")\n",
    "\n",
    "# WT Testing\n",
    "ztest ,pval = stests.ztest(x1 = data_WT4, x2 = data_WT5, value=0,alternative='smaller')\n",
    "print('pval for WT: ',float(pval))\n",
    "if pval<0.01:\n",
    "    print(\"reject null hypothesis\")\n",
    "else:\n",
    "    print(\"accept null hypothesis\")\n",
    "\n",
    "ztest ,pval = stests.ztest(x1 = data_TT4, x2 = data_TT5, value=0,alternative='larger')\n",
    "print('pval for TT: ',float(pval))\n",
    "if pval<0.01:\n",
    "    print(\"reject null hypothesis\")\n",
    "else:\n",
    "    print(\"accept null hypothesis\")\n"
   ]
  },
  {
   "cell_type": "markdown",
   "metadata": {},
   "source": [
    "### 4. Evaluation B60: sim4(Baseline: S-flow =300veh/h) vs sim6(Phase2: S-flow =600veh/h); \n",
    "#### Constants B60 :: N-flow =120veh/h, Cross-flow =50veh/h, VMAXmain =60kmph, VMAXcross =50kmph, seed =9420"
   ]
  },
  {
   "cell_type": "code",
   "execution_count": 224,
   "metadata": {
    "code_folding": [
     0
    ]
   },
   "outputs": [],
   "source": [
    "# Samples for testing: sim4 vs sim6\n",
    "data_QL6 = sim6_QL.q\n",
    "data_WT6 = sim6_WT.w\n",
    "data_TT6 = sim6_TT.w"
   ]
  },
  {
   "cell_type": "code",
   "execution_count": 225,
   "metadata": {
    "code_folding": [
     0
    ]
   },
   "outputs": [
    {
     "name": "stdout",
     "output_type": "stream",
     "text": [
      "stat=-0.699, p=0.486\n",
      "Probably the same distribution\n"
     ]
    }
   ],
   "source": [
    "# Student's t-test for Queue length: QL4vsQL6\n",
    "from scipy.stats import ttest_ind\n",
    "data1 = data_QL4\n",
    "data2 = data_QL6\n",
    "stat, p = ttest_ind(data1, data2)\n",
    "print('stat=%.3f, p=%.3f' % (stat, p))\n",
    "if p > 0.01:\n",
    "\tprint('Probably the same distribution')\n",
    "else:\n",
    "\tprint('Probably different distributions')"
   ]
  },
  {
   "cell_type": "code",
   "execution_count": 226,
   "metadata": {
    "code_folding": [
     0
    ]
   },
   "outputs": [
    {
     "name": "stdout",
     "output_type": "stream",
     "text": [
      "stat=-3.874, p=0.000\n",
      "Probably different distributions\n"
     ]
    }
   ],
   "source": [
    "# Student's t-test for Wait time: WT4 vs WT6\n",
    "from scipy.stats import ttest_ind\n",
    "data1 = data_WT4\n",
    "data2 = data_WT6\n",
    "stat, p = ttest_ind(data1, data2)\n",
    "print('stat=%.3f, p=%.3f' % (stat, p))\n",
    "if p > 0.01:\n",
    "\tprint('Probably the same distribution')\n",
    "else:\n",
    "\tprint('Probably different distributions')"
   ]
  },
  {
   "cell_type": "code",
   "execution_count": 227,
   "metadata": {
    "code_folding": [
     0
    ]
   },
   "outputs": [
    {
     "name": "stdout",
     "output_type": "stream",
     "text": [
      "stat=-0.858, p=0.391\n",
      "Probably the same distribution\n"
     ]
    }
   ],
   "source": [
    "# Student's t-test for Travel time: TT4 vs TT6\n",
    "from scipy.stats import ttest_ind\n",
    "data1 = data_TT4\n",
    "data2 = data_TT6\n",
    "stat, p = ttest_ind(data1, data2)\n",
    "print('stat=%.3f, p=%.3f' % (stat, p))\n",
    "if p > 0.01:\n",
    "\tprint('Probably the same distribution')\n",
    "else:\n",
    "\tprint('Probably different distributions')"
   ]
  },
  {
   "cell_type": "code",
   "execution_count": 228,
   "metadata": {
    "code_folding": [
     0
    ]
   },
   "outputs": [
    {
     "name": "stdout",
     "output_type": "stream",
     "text": [
      "QL\tWT\tTT\n",
      "\n",
      "0.87 15.24 62.76\n",
      "1.06 30.51 63.52\n"
     ]
    }
   ],
   "source": [
    "# Sample means \n",
    "print('QL\\tWT\\tTT\\n')\n",
    "print(round(data_QL4.mean(),2), round(data_WT4.mean(),2),round(data_TT4.mean(),2))\n",
    "print(round(data_QL6.mean(),2), round(data_WT6.mean(),2),round(data_TT6.mean(),2))"
   ]
  },
  {
   "cell_type": "markdown",
   "metadata": {},
   "source": [
    "### sim4 vs sim6 : z-Test"
   ]
  },
  {
   "cell_type": "markdown",
   "metadata": {},
   "source": [
    "#### 4.1. Two-Tailed Hypothesis Testing \n",
    "\n",
    "Assumptions were made:\n",
    "\n",
    "    H0: Sample means for QL/WT/TT are equal.\n",
    "    H1: There is a stat. significant difference in sample \n",
    "        means of QL/WT/TT.\n"
   ]
  },
  {
   "cell_type": "code",
   "execution_count": 184,
   "metadata": {
    "code_folding": [
     0
    ]
   },
   "outputs": [
    {
     "name": "stdout",
     "output_type": "stream",
     "text": [
      "pval for QL:  0.4842695588664815\n",
      "accept null hypothesis\n",
      "pval for WT:  0.0001070202346473491\n",
      "reject null hypothesis\n",
      "pval for WT:  0.3910653593828215\n",
      "accept null hypothesis\n"
     ]
    }
   ],
   "source": [
    "# Two-Tailed Z-Test for Evaluation B60: sim4 vs sim6 (QL4vsQL6, WT4vsWT6,TT4vsTT6)\n",
    "from scipy import stats\n",
    "from statsmodels.stats import weightstats as stests\n",
    "\n",
    "# QL Testing\n",
    "ztest ,pval = stests.ztest(x1 = data_QL4, x2 = data_QL6, value=0,alternative='two-sided')\n",
    "print('pval for QL: ',float(pval))\n",
    "if pval<0.01:\n",
    "    print(\"reject null hypothesis\")\n",
    "else:\n",
    "    print(\"accept null hypothesis\")\n",
    "\n",
    "# WT Testing\n",
    "ztest ,pval = stests.ztest(x1 = data_WT4, x2 = data_WT6, value=0,alternative='two-sided')\n",
    "print('pval for WT: ',float(pval))\n",
    "if pval<0.01:\n",
    "    print(\"reject null hypothesis\")\n",
    "else:\n",
    "    print(\"accept null hypothesis\")\n",
    "\n",
    "ztest ,pval = stests.ztest(x1 = data_TT4, x2 = data_TT6, value=0,alternative='two-sided')\n",
    "print('pval for WT: ',float(pval))\n",
    "if pval<0.01:\n",
    "    print(\"reject null hypothesis\")\n",
    "else:\n",
    "    print(\"accept null hypothesis\")\n"
   ]
  },
  {
   "cell_type": "markdown",
   "metadata": {},
   "source": [
    "#### 4.2. One-Tailed Hypothesis Testing \n",
    "\n",
    "Assumptions were made:\n",
    "\n",
    "    H0: There is no increase in QL/WT/TT with increase in S-flow.\n",
    "    H1: There is a stat. significant increase in QL/WT/TT \n",
    "        with increase in S-flow.\n"
   ]
  },
  {
   "cell_type": "code",
   "execution_count": 229,
   "metadata": {
    "code_folding": [
     0
    ]
   },
   "outputs": [
    {
     "name": "stdout",
     "output_type": "stream",
     "text": [
      "pval for QL:  0.24213477943324074\n",
      "accept null hypothesis\n",
      "pval for WT:  5.351011732367455e-05\n",
      "reject null hypothesis\n",
      "pval for TT:  0.19553267969141075\n",
      "accept null hypothesis\n"
     ]
    }
   ],
   "source": [
    "# One-tail Z-Test for Evaluation B60: sim4 vs sim6 (QL4vsQL6, WT4vsWT6,TT4vsTT6)\n",
    "from scipy import stats\n",
    "from statsmodels.stats import weightstats as stests\n",
    "\n",
    "# QL Testing\n",
    "ztest ,pval = stests.ztest(x1 = data_QL4, x2 = data_QL6, value=0,alternative='smaller')\n",
    "print('pval for QL: ',float(pval))\n",
    "if pval<0.01:\n",
    "    print(\"reject null hypothesis\")\n",
    "else:\n",
    "    print(\"accept null hypothesis\")\n",
    "\n",
    "# WT Testing\n",
    "ztest ,pval = stests.ztest(x1 = data_WT4, x2 = data_WT6, value=0,alternative='smaller')\n",
    "print('pval for WT: ',float(pval))\n",
    "if pval<0.01:\n",
    "    print(\"reject null hypothesis\")\n",
    "else:\n",
    "    print(\"accept null hypothesis\")\n",
    "\n",
    "ztest ,pval = stests.ztest(x1 = data_TT4, x2 = data_TT6, value=0,alternative='smaller')\n",
    "print('pval for TT: ',float(pval))\n",
    "if pval<0.01:\n",
    "    print(\"reject null hypothesis\")\n",
    "else:\n",
    "    print(\"accept null hypothesis\")\n"
   ]
  },
  {
   "cell_type": "markdown",
   "metadata": {},
   "source": [
    "### 5. Evaluation A80: sim7(Baseline: S-flow =300veh/h) vs sim8(Phase1: S-flow =400veh/h); \n",
    "#### Constants A80 :: N-flow =120veh/h, Cross-flow =50veh/h, VMAXmain =80kmph, VMAXcross =50kmph, seed =9420"
   ]
  },
  {
   "cell_type": "code",
   "execution_count": 230,
   "metadata": {
    "code_folding": [
     0
    ]
   },
   "outputs": [],
   "source": [
    "# sim7 and sim8 simulation with no dir filter i.e. ACross the road\n",
    "# filtering Queue data we take event = 'queue'/'dequeu/end'\n",
    "sim7_QL = sim7[(sim7['seed']==9420) & (sim7['event']=='queue')]\n",
    "sim7_WT = sim7[(sim7['seed']==9420) & (sim7['event']=='dequeue')]\n",
    "sim7_TT = sim7[(sim7['seed']==9420) & (sim7['event']=='end')]\n",
    "\n",
    "sim8_QL = sim8[(sim8['seed']==9420) & (sim8['event']=='queue')]\n",
    "sim8_WT = sim8[(sim8['seed']==9420) & (sim8['event']=='dequeue')]\n",
    "sim8_TT = sim8[(sim8['seed']==9420) & (sim8['event']=='end')]"
   ]
  },
  {
   "cell_type": "code",
   "execution_count": 231,
   "metadata": {
    "code_folding": [
     0
    ]
   },
   "outputs": [],
   "source": [
    "# Samples for testing: sim7 vs sim8\n",
    "data_QL7 = sim7_QL.q\n",
    "data_WT7 = sim7_WT.w\n",
    "data_TT7 = sim7_TT.w\n",
    "data_QL8 = sim8_QL.q\n",
    "data_WT8 = sim8_WT.w\n",
    "data_TT8 = sim8_TT.w"
   ]
  },
  {
   "cell_type": "code",
   "execution_count": 232,
   "metadata": {},
   "outputs": [
    {
     "name": "stdout",
     "output_type": "stream",
     "text": [
      "QL\tWT\tTT\n",
      "\n",
      "0.94 14.55 51.36\n",
      "0.83 16.11 50.6\n"
     ]
    }
   ],
   "source": [
    "# Sample means \n",
    "print('QL\\tWT\\tTT\\n')\n",
    "print(round(data_QL7.mean(),2), round(data_WT7.mean(),2),round(data_TT7.mean(),2))\n",
    "print(round(data_QL8.mean(),2), round(data_WT8.mean(),2),round(data_TT8.mean(),2))"
   ]
  },
  {
   "cell_type": "markdown",
   "metadata": {},
   "source": [
    "### sim7 vs sim8 : z-Test"
   ]
  },
  {
   "cell_type": "markdown",
   "metadata": {},
   "source": [
    "#### 5.1. Two-Tailed Hypothesis Testing \n",
    "\n",
    "Assumptions were made:\n",
    "\n",
    "    H0: Sample means for QL/WT/TT are equal.\n",
    "    H1: There is a stat. significant difference in sample \n",
    "        means of QL/WT/TT.\n"
   ]
  },
  {
   "cell_type": "code",
   "execution_count": 233,
   "metadata": {
    "code_folding": [
     0
    ]
   },
   "outputs": [
    {
     "name": "stdout",
     "output_type": "stream",
     "text": [
      "pval for QL:  0.6877222577245141\n",
      "accept null hypothesis\n",
      "pval for WT:  0.4022183173427706\n",
      "accept null hypothesis\n",
      "pval for WT:  0.4430626363606822\n",
      "accept null hypothesis\n"
     ]
    }
   ],
   "source": [
    "# Two-Tailed Z-Test for Evaluation A80: sim7 vs sim8 (QL7vsQL8, WT7vsWT8,TT7vsTT8)\n",
    "from scipy import stats\n",
    "from statsmodels.stats import weightstats as stests\n",
    "\n",
    "# QL Testing\n",
    "ztest ,pval = stests.ztest(x1 = data_QL7, x2 = data_QL8, value=0,alternative='two-sided')\n",
    "print('pval for QL: ',float(pval))\n",
    "if pval<0.01:\n",
    "    print(\"reject null hypothesis\")\n",
    "else:\n",
    "    print(\"accept null hypothesis\")\n",
    "\n",
    "# WT Testing\n",
    "ztest ,pval = stests.ztest(x1 = data_WT7, x2 = data_WT8, value=0,alternative='two-sided')\n",
    "print('pval for WT: ',float(pval))\n",
    "if pval<0.01:\n",
    "    print(\"reject null hypothesis\")\n",
    "else:\n",
    "    print(\"accept null hypothesis\")\n",
    "\n",
    "ztest ,pval = stests.ztest(x1 = data_TT7, x2 = data_TT8, value=0,alternative='two-sided')\n",
    "print('pval for WT: ',float(pval))\n",
    "if pval<0.01:\n",
    "    print(\"reject null hypothesis\")\n",
    "else:\n",
    "    print(\"accept null hypothesis\")\n"
   ]
  },
  {
   "cell_type": "markdown",
   "metadata": {},
   "source": [
    "#### 5.2. One-Tailed Hypothesis Testing \n",
    "\n",
    "Assumptions were made:\n",
    "\n",
    "    H0: There is no increase in QL/WT/TT with increase in S-flow.\n",
    "    H1: There is a stat. significant increase in QL/WT/TT \n",
    "        with increase in S-flow.\n"
   ]
  },
  {
   "cell_type": "code",
   "execution_count": 234,
   "metadata": {
    "code_folding": [
     0
    ]
   },
   "outputs": [
    {
     "name": "stdout",
     "output_type": "stream",
     "text": [
      "pval for QL:  0.34386112886225706\n",
      "accept null hypothesis\n",
      "pval for WT:  0.2011091586713853\n",
      "accept null hypothesis\n",
      "pval for TT:  0.2215313181803411\n",
      "accept null hypothesis\n"
     ]
    }
   ],
   "source": [
    "# One-tail Z-Test for Evaluation A80: sim7 vs sim8 (QL7vsQL8, WT7vsWT8,TT7vsTT8)\n",
    "from scipy import stats\n",
    "from statsmodels.stats import weightstats as stests\n",
    "\n",
    "# QL Testing\n",
    "ztest ,pval = stests.ztest(x1 = data_QL7, x2 = data_QL8, value=0,alternative='larger')\n",
    "print('pval for QL: ',float(pval))\n",
    "if pval<0.01:\n",
    "    print(\"reject null hypothesis\")\n",
    "else:\n",
    "    print(\"accept null hypothesis\")\n",
    "\n",
    "# WT Testing\n",
    "ztest ,pval = stests.ztest(x1 = data_WT7, x2 = data_WT8, value=0,alternative='smaller')\n",
    "print('pval for WT: ',float(pval))\n",
    "if pval<0.01:\n",
    "    print(\"reject null hypothesis\")\n",
    "else:\n",
    "    print(\"accept null hypothesis\")\n",
    "\n",
    "ztest ,pval = stests.ztest(x1 = data_TT7, x2 = data_TT8, value=0,alternative='larger')\n",
    "print('pval for TT: ',float(pval))\n",
    "if pval<0.01:\n",
    "    print(\"reject null hypothesis\")\n",
    "else:\n",
    "    print(\"accept null hypothesis\")\n"
   ]
  },
  {
   "cell_type": "markdown",
   "metadata": {},
   "source": [
    "### 6. Evaluation B80: sim7(Baseline: S-flow =300veh/h) vs sim9(Phase2: S-flow =600veh/h); \n",
    "#### Constants B80 :: N-flow =120veh/h, Cross-flow =50veh/h, VMAXmain =80kmph, VMAXcross =50kmph, seed =9420"
   ]
  },
  {
   "cell_type": "code",
   "execution_count": 235,
   "metadata": {
    "code_folding": [
     0
    ]
   },
   "outputs": [],
   "source": [
    "# sim7 and sim9 simulation with no dir filter i.e. ACross the road\n",
    "# filtering Queue data we take event = 'queue'/'dequeue/end'\n",
    "sim9_QL = sim9[(sim9['seed']==9420) & (sim9['event']=='queue')]\n",
    "sim9_WT = sim9[(sim9['seed']==9420) & (sim9['event']=='dequeue')]\n",
    "sim9_TT = sim9[(sim9['seed']==9420) & (sim9['event']=='end')]"
   ]
  },
  {
   "cell_type": "code",
   "execution_count": 236,
   "metadata": {
    "code_folding": [
     0
    ]
   },
   "outputs": [],
   "source": [
    "# Samples for testing: sim7 vs sim9\n",
    "data_QL9 = sim9_QL.q\n",
    "data_WT9 = sim9_WT.w\n",
    "data_TT9 = sim9_TT.w"
   ]
  },
  {
   "cell_type": "code",
   "execution_count": 237,
   "metadata": {
    "code_folding": [
     0
    ]
   },
   "outputs": [
    {
     "name": "stdout",
     "output_type": "stream",
     "text": [
      "QL\tWT\tTT\n",
      "\n",
      "0.94 14.55 51.36\n",
      "0.87 28.21 50.62\n"
     ]
    }
   ],
   "source": [
    "# Sample means \n",
    "print('QL\\tWT\\tTT\\n')\n",
    "print(round(data_QL7.mean(),2), round(data_WT7.mean(),2),round(data_TT7.mean(),2))\n",
    "print(round(data_QL9.mean(),2), round(data_WT9.mean(),2),round(data_TT9.mean(),2))"
   ]
  },
  {
   "cell_type": "markdown",
   "metadata": {},
   "source": [
    "### sim7 vs sim9 : z-Test"
   ]
  },
  {
   "cell_type": "markdown",
   "metadata": {},
   "source": [
    "#### 6.1. Two-Tailed Hypothesis Testing \n",
    "\n",
    "Assumptions were made:\n",
    "\n",
    "    H0: Sample means for QL/WT/TT are equal.\n",
    "    H1: There is a stat. significant difference in sample \n",
    "        means of QL/WT/TT.\n"
   ]
  },
  {
   "cell_type": "code",
   "execution_count": 238,
   "metadata": {
    "code_folding": [
     0
    ]
   },
   "outputs": [
    {
     "name": "stdout",
     "output_type": "stream",
     "text": [
      "pval for QL:  0.8085517751294359\n",
      "accept null hypothesis\n",
      "pval for WT:  3.422026386523669e-06\n",
      "reject null hypothesis\n",
      "pval for TT:  0.5055224674724765\n",
      "accept null hypothesis\n"
     ]
    }
   ],
   "source": [
    "# Two-tail Z-Test for Evaluation B80: sim7 vs sim9 (QL7vsQL9, WT7vsWT9,TT7vsTT9)\n",
    "from scipy import stats\n",
    "from statsmodels.stats import weightstats as stests\n",
    "\n",
    "# QL Testing\n",
    "ztest ,pval = stests.ztest(x1 = data_QL7, x2 = data_QL9, value=0,alternative='two-sided')\n",
    "print('pval for QL: ',float(pval))\n",
    "if pval<0.01:\n",
    "    print(\"reject null hypothesis\")\n",
    "else:\n",
    "    print(\"accept null hypothesis\")\n",
    "\n",
    "# WT Testing\n",
    "ztest ,pval = stests.ztest(x1 = data_WT7, x2 = data_WT9, value=0,alternative='two-sided')\n",
    "print('pval for WT: ',float(pval))\n",
    "if pval<0.01:\n",
    "    print(\"reject null hypothesis\")\n",
    "else:\n",
    "    print(\"accept null hypothesis\")\n",
    "\n",
    "ztest ,pval = stests.ztest(x1 = data_TT7, x2 = data_TT9, value=0,alternative='two-sided')\n",
    "print('pval for TT: ',float(pval))\n",
    "if pval<0.01:\n",
    "    print(\"reject null hypothesis\")\n",
    "else:\n",
    "    print(\"accept null hypothesis\")\n"
   ]
  },
  {
   "cell_type": "markdown",
   "metadata": {},
   "source": [
    "#### 6.2. One-Tailed Hypothesis Testing \n",
    "\n",
    "Assumptions were made:\n",
    "\n",
    "    H0: There is no increase in QL/WT/TT with increase in S-flow.\n",
    "    H1: There is a stat. significant increase in QL/WT/TT \n",
    "        with increase in S-flow.\n"
   ]
  },
  {
   "cell_type": "code",
   "execution_count": 239,
   "metadata": {
    "code_folding": [
     0
    ]
   },
   "outputs": [
    {
     "name": "stdout",
     "output_type": "stream",
     "text": [
      "pval for QL:  0.40427588756471794\n",
      "accept null hypothesis\n",
      "pval for WT:  1.7110131932618345e-06\n",
      "reject null hypothesis\n",
      "pval for TT:  0.25276123373623827\n",
      "accept null hypothesis\n"
     ]
    }
   ],
   "source": [
    "# One-tail Z-Test for Evaluation B80: sim7 vs sim9 (QL7vsQL9, WT7vsWT9,TT7vsTT9)\n",
    "from scipy import stats\n",
    "from statsmodels.stats import weightstats as stests\n",
    "\n",
    "# QL Testing\n",
    "ztest ,pval = stests.ztest(x1 = data_QL7, x2 = data_QL9, value=0,alternative='larger')\n",
    "print('pval for QL: ',float(pval))\n",
    "if pval<0.01:\n",
    "    print(\"reject null hypothesis\")\n",
    "else:\n",
    "    print(\"accept null hypothesis\")\n",
    "\n",
    "# WT Testing\n",
    "ztest ,pval = stests.ztest(x1 = data_WT7, x2 = data_WT9, value=0,alternative='smaller')\n",
    "print('pval for WT: ',float(pval))\n",
    "if pval<0.01:\n",
    "    print(\"reject null hypothesis\")\n",
    "else:\n",
    "    print(\"accept null hypothesis\")\n",
    "\n",
    "ztest ,pval = stests.ztest(x1 = data_TT7, x2 = data_TT9, value=0,alternative='larger')\n",
    "print('pval for TT: ',float(pval))\n",
    "if pval<0.01:\n",
    "    print(\"reject null hypothesis\")\n",
    "else:\n",
    "    print(\"accept null hypothesis\")\n"
   ]
  }
 ],
 "metadata": {
  "kernelspec": {
   "display_name": "Python 3",
   "language": "python",
   "name": "python3"
  },
  "language_info": {
   "codemirror_mode": {
    "name": "ipython",
    "version": 3
   },
   "file_extension": ".py",
   "mimetype": "text/x-python",
   "name": "python",
   "nbconvert_exporter": "python",
   "pygments_lexer": "ipython3",
   "version": "3.8.5"
  },
  "varInspector": {
   "cols": {
    "lenName": 16,
    "lenType": 16,
    "lenVar": 40
   },
   "kernels_config": {
    "python": {
     "delete_cmd_postfix": "",
     "delete_cmd_prefix": "del ",
     "library": "var_list.py",
     "varRefreshCmd": "print(var_dic_list())"
    },
    "r": {
     "delete_cmd_postfix": ") ",
     "delete_cmd_prefix": "rm(",
     "library": "var_list.r",
     "varRefreshCmd": "cat(var_dic_list()) "
    }
   },
   "types_to_exclude": [
    "module",
    "function",
    "builtin_function_or_method",
    "instance",
    "_Feature"
   ],
   "window_display": false
  }
 },
 "nbformat": 4,
 "nbformat_minor": 4
}
